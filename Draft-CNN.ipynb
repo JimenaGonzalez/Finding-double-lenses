{
 "cells": [
  {
   "cell_type": "code",
   "execution_count": 1,
   "metadata": {},
   "outputs": [],
   "source": [
    "import torch\n",
    "import torch.nn as nn\n",
    "import torch.optim as optim"
   ]
  },
  {
   "cell_type": "code",
   "execution_count": 2,
   "metadata": {},
   "outputs": [],
   "source": [
    "def model():\n",
    "    layers = []\n",
    "    # 2 convs\n",
    "    layers.append(nn.Conv2d(3, 6, kernel_size=5, stride=1))\n",
    "    layers.append(nn.ReLU(inplace=True))\n",
    "    layers.append(nn.MaxPool2d(kernel_size=2, stride=2))\n",
    "    layers.append(nn.Conv2d(6, 16, kernel_size=5, stride=1))\n",
    "    layers.append(nn.ReLU(inplace=True))\n",
    "    layers.append(nn.MaxPool2d(kernel_size=2, stride=2))\n",
    "    layers.append(nn.Flatten())\n",
    "    # 3 FCs\n",
    "    layers.append(nn.Linear(2000, 256))\n",
    "    layers.append(nn.ReLU(inplace=True))\n",
    "    layers.append(nn.Linear(256, 128))\n",
    "    layers.append(nn.ReLU(inplace=True))\n",
    "    layers.append(nn.Linear(128, 10))\n",
    "    \n",
    "    layers = nn.Sequential(*layers)\n",
    "    return(layers)"
   ]
  },
  {
   "cell_type": "code",
   "execution_count": 3,
   "metadata": {},
   "outputs": [
    {
     "name": "stdout",
     "output_type": "stream",
     "text": [
      "Sequential(\n",
      "  (0): Conv2d(3, 6, kernel_size=(5, 5), stride=(1, 1))\n",
      "  (1): ReLU(inplace=True)\n",
      "  (2): MaxPool2d(kernel_size=2, stride=2, padding=0, dilation=1, ceil_mode=False)\n",
      "  (3): Conv2d(6, 16, kernel_size=(5, 5), stride=(1, 1))\n",
      "  (4): ReLU(inplace=True)\n",
      "  (5): MaxPool2d(kernel_size=2, stride=2, padding=0, dilation=1, ceil_mode=False)\n",
      "  (6): Flatten(start_dim=1, end_dim=-1)\n",
      "  (7): Linear(in_features=2000, out_features=256, bias=True)\n",
      "  (8): ReLU(inplace=True)\n",
      "  (9): Linear(in_features=256, out_features=128, bias=True)\n",
      "  (10): ReLU(inplace=True)\n",
      "  (11): Linear(in_features=128, out_features=10, bias=True)\n",
      ")\n",
      "<generator object Module.parameters at 0x7ffdb38a0050>\n"
     ]
    }
   ],
   "source": [
    "layers = model()\n",
    "print(layers)\n",
    "print(layers.parameters())"
   ]
  },
  {
   "cell_type": "code",
   "execution_count": 6,
   "metadata": {},
   "outputs": [],
   "source": [
    "training_criterion = nn.CrossEntropyLoss()\n",
    "optimizer = optim.Adam(layers.parameters())"
   ]
  },
  {
   "cell_type": "code",
   "execution_count": null,
   "metadata": {},
   "outputs": [],
   "source": []
  }
 ],
 "metadata": {
  "kernelspec": {
   "display_name": "TensorFlow",
   "language": "python",
   "name": "tensorflow"
  },
  "language_info": {
   "codemirror_mode": {
    "name": "ipython",
    "version": 3
   },
   "file_extension": ".py",
   "mimetype": "text/x-python",
   "name": "python",
   "nbconvert_exporter": "python",
   "pygments_lexer": "ipython3",
   "version": "3.7.7"
  }
 },
 "nbformat": 4,
 "nbformat_minor": 4
}
